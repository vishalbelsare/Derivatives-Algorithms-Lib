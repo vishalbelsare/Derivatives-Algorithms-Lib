{
 "cells": [
  {
   "cell_type": "code",
   "execution_count": 5,
   "id": "d9ffd280-b78b-4e92-953b-675f254e2f8d",
   "metadata": {},
   "outputs": [],
   "source": [
    "import numpy as np\n",
    "import numpy as np\n",
    "from numpy.random import randn\n",
    "\n",
    "μ, d, σ, S, K = 0.05, 0.03, 0.15, 100.0, 120.0\n",
    "\n",
    "def create_model():\n",
    "    return np.array([μ, d, σ, S, K])\n",
    "\n",
    "default_M = 2 ** 25\n",
    "T = 3.0"
   ]
  },
  {
   "cell_type": "code",
   "execution_count": 6,
   "id": "af4712a8-b748-4fa5-bb97-24c2f5c21c1b",
   "metadata": {},
   "outputs": [],
   "source": [
    "default_model = create_model()"
   ]
  },
  {
   "cell_type": "markdown",
   "id": "c1cdaa90-e2c3-423c-bab7-9c9a7b7dfeb7",
   "metadata": {},
   "source": [
    "## python\n",
    "-----------"
   ]
  },
  {
   "cell_type": "code",
   "execution_count": 7,
   "id": "f2d1e23c-c122-4f0c-8857-38cc4dcac473",
   "metadata": {},
   "outputs": [],
   "source": [
    "from math import log, sqrt, exp\n",
    "\n",
    "def compute_call_price_python(model, T = 3.0, M=default_M):\n",
    "\n",
    "    μ, d, σ, S, K = model\n",
    "\n",
    "    current_sum = 0.0\n",
    "    Z = np.random.randn(M)\n",
    "    for m in range(M):\n",
    "        s = log(S) + (μ - d - 0.5 * σ * σ) * T +  σ * sqrt(T) * Z[m]\n",
    "        current_sum += max(np.exp(s) - K, 0)\n",
    "    return exp(-μ * T) * current_sum / M"
   ]
  },
  {
   "cell_type": "code",
   "execution_count": 8,
   "id": "3d79cdf1-8dba-444d-a0ed-b6272864e1c0",
   "metadata": {},
   "outputs": [
    {
     "name": "stdout",
     "output_type": "stream",
     "text": [
      "CPU times: total: 1min 7s\n",
      "Wall time: 1min 7s\n"
     ]
    },
    {
     "data": {
      "text/plain": [
       "5.202395417058214"
      ]
     },
     "execution_count": 8,
     "metadata": {},
     "output_type": "execute_result"
    }
   ],
   "source": [
    "%%time \n",
    "compute_call_price_python(default_model)"
   ]
  },
  {
   "cell_type": "markdown",
   "id": "60928688-a3ee-468f-ad82-7debcbbeac92",
   "metadata": {},
   "source": [
    "## numpy\n",
    "----------"
   ]
  },
  {
   "cell_type": "code",
   "execution_count": 9,
   "id": "1ca0a333-afba-485b-a875-c418b639b5a8",
   "metadata": {},
   "outputs": [],
   "source": [
    "def compute_call_price_numpy(model, T = 3.0, M=default_M):\n",
    "    \"\"\"\n",
    "    Generate M observations of S_n and average to estimate\n",
    "    the option price.\n",
    "    \"\"\"\n",
    "\n",
    "    # Set up\n",
    "    μ, d, σ, S, K = model\n",
    "    s = np.full(M, np.log(S))\n",
    "    Z = np.random.randn(M)\n",
    "    s = s + (μ - d - 0.5 * σ * σ) * T +  σ * np.sqrt(T) * Z\n",
    "    expectation = np.mean(np.maximum(np.exp(s) - K, 0))\n",
    "    \n",
    "    return np.exp(-μ * T) * expectation"
   ]
  },
  {
   "cell_type": "code",
   "execution_count": 11,
   "id": "e455c9a6-2a59-450e-98ec-dd6e6e9ec108",
   "metadata": {},
   "outputs": [
    {
     "name": "stdout",
     "output_type": "stream",
     "text": [
      "CPU times: total: 1.5 s\n",
      "Wall time: 1.5 s\n"
     ]
    },
    {
     "data": {
      "text/plain": [
       "5.201171659167529"
      ]
     },
     "execution_count": 11,
     "metadata": {},
     "output_type": "execute_result"
    }
   ],
   "source": [
    "%%time \n",
    "compute_call_price_numpy(default_model)"
   ]
  },
  {
   "cell_type": "markdown",
   "id": "159f0e34-a56e-45d8-be7a-752c0e6b33b6",
   "metadata": {},
   "source": [
    "## Numba\n",
    "------------"
   ]
  },
  {
   "cell_type": "code",
   "execution_count": 12,
   "id": "b5a17b16-30f4-45f0-891c-ecc6c7665bcb",
   "metadata": {},
   "outputs": [],
   "source": [
    "from numba import njit\n",
    "from numba import prange"
   ]
  },
  {
   "cell_type": "code",
   "execution_count": 13,
   "id": "9b364f4e-cc00-46c2-8f1d-1522c5122c13",
   "metadata": {},
   "outputs": [],
   "source": [
    "compute_call_price_numba = njit()(compute_call_price_numpy)"
   ]
  },
  {
   "cell_type": "code",
   "execution_count": 15,
   "id": "951c0641-26c8-408a-84f3-57d70e622ab0",
   "metadata": {},
   "outputs": [
    {
     "name": "stdout",
     "output_type": "stream",
     "text": [
      "CPU times: total: 1.02 s\n",
      "Wall time: 1.02 s\n"
     ]
    },
    {
     "data": {
      "text/plain": [
       "5.201710288210103"
      ]
     },
     "execution_count": 15,
     "metadata": {},
     "output_type": "execute_result"
    }
   ],
   "source": [
    "%%time \n",
    "compute_call_price_numba(default_model)"
   ]
  },
  {
   "cell_type": "code",
   "execution_count": 16,
   "id": "9fb7eddf-2d3b-4df9-b346-f04dd98ac150",
   "metadata": {},
   "outputs": [],
   "source": [
    "from numba import prange"
   ]
  },
  {
   "cell_type": "code",
   "execution_count": 19,
   "id": "ac07df64-a761-4624-94be-3d8d1ab26cb4",
   "metadata": {},
   "outputs": [],
   "source": [
    "@njit(parallel=True)\n",
    "def compute_call_price_numba_parallel(model, T = 3.0, M=default_M):\n",
    "\n",
    "    μ, d, σ, S, K = model\n",
    "\n",
    "    current_sum = 0.0\n",
    "    # For each sample path\n",
    "    for m in prange(M):\n",
    "        s = np.log(S) + (μ - d - 0.5 * σ * σ) * T +  σ * np.sqrt(T) * randn()\n",
    "        current_sum += np.maximum(np.exp(s) - K, 0)\n",
    "    return np.exp(-μ * T) * current_sum / M"
   ]
  },
  {
   "cell_type": "code",
   "execution_count": 21,
   "id": "13776cd2-1dcc-4b9f-998a-d47812387870",
   "metadata": {},
   "outputs": [
    {
     "name": "stdout",
     "output_type": "stream",
     "text": [
      "CPU times: total: 1.77 s\n",
      "Wall time: 258 ms\n"
     ]
    },
    {
     "data": {
      "text/plain": [
       "5.1984890614983845"
      ]
     },
     "execution_count": 21,
     "metadata": {},
     "output_type": "execute_result"
    }
   ],
   "source": [
    "%%time\n",
    "compute_call_price_numba_parallel(default_model)"
   ]
  },
  {
   "cell_type": "markdown",
   "id": "93dec300-336e-4d9b-881a-5a8af5f90846",
   "metadata": {},
   "source": [
    "## JAX\n",
    "----------------"
   ]
  },
  {
   "cell_type": "code",
   "execution_count": 22,
   "id": "bf1143f1-7bb6-4a73-adbc-97d337deedb9",
   "metadata": {},
   "outputs": [],
   "source": [
    "import jax\n",
    "import jax.numpy as jnp"
   ]
  },
  {
   "cell_type": "code",
   "execution_count": 23,
   "id": "e04ff999-c81f-4ef0-8369-ca4763fa6c3d",
   "metadata": {},
   "outputs": [
    {
     "name": "stderr",
     "output_type": "stream",
     "text": [
      "No GPU/TPU found, falling back to CPU. (Set TF_CPP_MIN_LOG_LEVEL=0 and rerun for more info.)\n"
     ]
    }
   ],
   "source": [
    "def compute_call_price_jax(model, T = 3.0, M=default_M,\n",
    "                           key=jax.random.PRNGKey(1)):\n",
    "    \"\"\"\n",
    "    Estimate the price of the call option using Monte Carlo.\n",
    "    \"\"\"\n",
    "    # Set up\n",
    "    μ, d, σ, S, K = model\n",
    "    s = jnp.full(M, jnp.log(S))\n",
    "    Z = jax.random.normal(key, (1, M))\n",
    "    s = s + (μ - d - 0.5 * σ * σ) * T +  σ * jnp.sqrt(T) * Z[0, :]\n",
    "    expectation = jnp.mean(jnp.maximum(jnp.exp(s) - K, 0))\n",
    "    return jnp.exp(-μ * T) * expectation"
   ]
  },
  {
   "cell_type": "code",
   "execution_count": 26,
   "id": "5e32f7c3-9a05-4c5e-8d43-a09655af9969",
   "metadata": {},
   "outputs": [
    {
     "name": "stdout",
     "output_type": "stream",
     "text": [
      "CPU times: total: 1.59 s\n",
      "Wall time: 522 ms\n"
     ]
    },
    {
     "data": {
      "text/plain": [
       "Array(5.200003, dtype=float32)"
      ]
     },
     "execution_count": 26,
     "metadata": {},
     "output_type": "execute_result"
    }
   ],
   "source": [
    "%%time \n",
    "compute_call_price_jax(default_model).block_until_ready()"
   ]
  },
  {
   "cell_type": "code",
   "execution_count": 27,
   "id": "5b0eb92c-171c-4a0e-b2c0-ecab5e8d0833",
   "metadata": {},
   "outputs": [],
   "source": [
    "compute_call_price_jax_jit = jax.jit(compute_call_price_jax)"
   ]
  },
  {
   "cell_type": "code",
   "execution_count": 29,
   "id": "6ecc6289-d1cf-4ba5-9f13-6273d60aaa8b",
   "metadata": {},
   "outputs": [
    {
     "name": "stdout",
     "output_type": "stream",
     "text": [
      "CPU times: total: 1.27 s\n",
      "Wall time: 259 ms\n"
     ]
    },
    {
     "data": {
      "text/plain": [
       "Array(5.200003, dtype=float32)"
      ]
     },
     "execution_count": 29,
     "metadata": {},
     "output_type": "execute_result"
    }
   ],
   "source": [
    "%%time \n",
    "compute_call_price_jax_jit(default_model).block_until_ready()"
   ]
  },
  {
   "cell_type": "code",
   "execution_count": 39,
   "id": "8b317b87-fb94-47e2-84ba-94e0b56b8c68",
   "metadata": {},
   "outputs": [],
   "source": [
    "compute_call_grad = jax.grad(compute_call_price_jax)\n",
    "compute_call_grad_jit = jax.jit(jax.grad(compute_call_price_jax))"
   ]
  },
  {
   "cell_type": "code",
   "execution_count": 40,
   "id": "4824ad09-d3ee-4412-8c58-cf71f17a805c",
   "metadata": {},
   "outputs": [
    {
     "name": "stdout",
     "output_type": "stream",
     "text": [
      "CPU times: total: 500 ms\n",
      "Wall time: 491 ms\n"
     ]
    },
    {
     "data": {
      "text/plain": [
       "Array([ 83.81817   , -98.55397   ,  56.65969   ,   0.32851323,\n",
       "        -0.23282823], dtype=float32)"
      ]
     },
     "execution_count": 40,
     "metadata": {},
     "output_type": "execute_result"
    }
   ],
   "source": [
    "%%time \n",
    "compute_call_grad(default_model).block_until_ready()"
   ]
  },
  {
   "cell_type": "code",
   "execution_count": 41,
   "id": "20b023e7-a017-46dc-b4ed-cae48c1f7540",
   "metadata": {},
   "outputs": [
    {
     "name": "stdout",
     "output_type": "stream",
     "text": [
      "CPU times: total: 234 ms\n",
      "Wall time: 235 ms\n"
     ]
    },
    {
     "data": {
      "text/plain": [
       "Array([ 83.81816   , -98.55397   ,  56.65969   ,   0.32851323,\n",
       "        -0.23282823], dtype=float32)"
      ]
     },
     "execution_count": 41,
     "metadata": {},
     "output_type": "execute_result"
    }
   ],
   "source": [
    "%%time \n",
    "compute_call_grad_jit(default_model).block_until_ready()"
   ]
  },
  {
   "cell_type": "code",
   "execution_count": null,
   "id": "0a918e72-6fc8-494b-bed5-371e675817d7",
   "metadata": {},
   "outputs": [],
   "source": []
  }
 ],
 "metadata": {
  "kernelspec": {
   "display_name": "Python 3 (ipykernel)",
   "language": "python",
   "name": "python3"
  },
  "language_info": {
   "codemirror_mode": {
    "name": "ipython",
    "version": 3
   },
   "file_extension": ".py",
   "mimetype": "text/x-python",
   "name": "python",
   "nbconvert_exporter": "python",
   "pygments_lexer": "ipython3",
   "version": "3.9.16"
  }
 },
 "nbformat": 4,
 "nbformat_minor": 5
}
