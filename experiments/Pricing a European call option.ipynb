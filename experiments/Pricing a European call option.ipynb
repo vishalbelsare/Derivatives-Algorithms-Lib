{
 "cells": [
  {
   "cell_type": "code",
   "execution_count": 1,
   "id": "711a8165-8ff2-4ca7-8d33-d5f056966745",
   "metadata": {},
   "outputs": [],
   "source": [
    "μ, d, σ, S, K = 0.05, 0.03, 0.15, 100.0, 120.0"
   ]
  },
  {
   "cell_type": "code",
   "execution_count": 4,
   "id": "d9ffd280-b78b-4e92-953b-675f254e2f8d",
   "metadata": {},
   "outputs": [],
   "source": [
    "import numpy as np\n",
    "\n",
    "def create_model():\n",
    "    return np.array([μ, d, σ, S, K])"
   ]
  },
  {
   "cell_type": "code",
   "execution_count": 5,
   "id": "af4712a8-b748-4fa5-bb97-24c2f5c21c1b",
   "metadata": {},
   "outputs": [],
   "source": [
    "default_model = create_model()"
   ]
  },
  {
   "cell_type": "markdown",
   "id": "159f0e34-a56e-45d8-be7a-752c0e6b33b6",
   "metadata": {},
   "source": [
    "## Numba\n",
    "------------"
   ]
  },
  {
   "cell_type": "code",
   "execution_count": 6,
   "id": "b5a17b16-30f4-45f0-891c-ecc6c7665bcb",
   "metadata": {},
   "outputs": [],
   "source": [
    "import numpy as np\n",
    "from numpy.random import randn\n",
    "from numba import njit\n",
    "\n",
    "default_M = 2 ** 25\n",
    "T = 3.0"
   ]
  },
  {
   "cell_type": "code",
   "execution_count": 7,
   "id": "9b364f4e-cc00-46c2-8f1d-1522c5122c13",
   "metadata": {},
   "outputs": [],
   "source": [
    "@njit\n",
    "def compute_call_price(model, T = 3.0, M=default_M):\n",
    "    \"\"\"\n",
    "    Generate M observations of S_n and average to estimate\n",
    "    the option price.\n",
    "    \"\"\"\n",
    "\n",
    "    # Set up\n",
    "    μ, d, σ, S, K = model\n",
    "    s = np.full(M, np.log(S))\n",
    "    Z = np.random.randn(M)\n",
    "    s = s + (μ - d - 0.5 * σ * σ) * T +  σ * np.sqrt(T) * Z\n",
    "    expectation = np.mean(np.maximum(np.exp(s) - K, 0))\n",
    "    \n",
    "    return np.exp(-μ * T) * expectation"
   ]
  },
  {
   "cell_type": "code",
   "execution_count": 8,
   "id": "951c0641-26c8-408a-84f3-57d70e622ab0",
   "metadata": {},
   "outputs": [
    {
     "name": "stdout",
     "output_type": "stream",
     "text": [
      "CPU times: total: 2.23 s\n",
      "Wall time: 2.45 s\n"
     ]
    },
    {
     "data": {
      "text/plain": [
       "5.201341236129124"
      ]
     },
     "execution_count": 8,
     "metadata": {},
     "output_type": "execute_result"
    }
   ],
   "source": [
    "%%time \n",
    "compute_call_price(default_model)"
   ]
  },
  {
   "cell_type": "code",
   "execution_count": 9,
   "id": "9fb7eddf-2d3b-4df9-b346-f04dd98ac150",
   "metadata": {},
   "outputs": [],
   "source": [
    "from numba import prange"
   ]
  },
  {
   "cell_type": "code",
   "execution_count": 10,
   "id": "ac07df64-a761-4624-94be-3d8d1ab26cb4",
   "metadata": {},
   "outputs": [],
   "source": [
    "@njit(parallel=True)\n",
    "def compute_call_price_parallel(model, T = 3.0, M=default_M):\n",
    "\n",
    "    μ, d, σ, S, K = model\n",
    "\n",
    "    current_sum = 0.0\n",
    "    # For each sample path\n",
    "    for m in prange(M):\n",
    "        s = np.log(S) + (μ - d - 0.5 * σ * σ) * T +  σ * np.sqrt(T) * randn()\n",
    "        current_sum += np.maximum(np.exp(s) - K, 0)\n",
    "    return np.exp(-μ * T) * current_sum / M"
   ]
  },
  {
   "cell_type": "code",
   "execution_count": 11,
   "id": "13776cd2-1dcc-4b9f-998a-d47812387870",
   "metadata": {},
   "outputs": [
    {
     "name": "stdout",
     "output_type": "stream",
     "text": [
      "CPU times: total: 2.61 s\n",
      "Wall time: 1.22 s\n"
     ]
    },
    {
     "data": {
      "text/plain": [
       "5.203885237767771"
      ]
     },
     "execution_count": 11,
     "metadata": {},
     "output_type": "execute_result"
    }
   ],
   "source": [
    "%%time\n",
    "compute_call_price_parallel(default_model)"
   ]
  },
  {
   "cell_type": "markdown",
   "id": "93dec300-336e-4d9b-881a-5a8af5f90846",
   "metadata": {},
   "source": [
    "## JAX\n",
    "----------------"
   ]
  },
  {
   "cell_type": "code",
   "execution_count": 12,
   "id": "bf1143f1-7bb6-4a73-adbc-97d337deedb9",
   "metadata": {},
   "outputs": [],
   "source": [
    "import jax\n",
    "import jax.numpy as jnp"
   ]
  },
  {
   "cell_type": "code",
   "execution_count": 13,
   "id": "e04ff999-c81f-4ef0-8369-ca4763fa6c3d",
   "metadata": {},
   "outputs": [
    {
     "name": "stderr",
     "output_type": "stream",
     "text": [
      "No GPU/TPU found, falling back to CPU. (Set TF_CPP_MIN_LOG_LEVEL=0 and rerun for more info.)\n"
     ]
    }
   ],
   "source": [
    "def compute_call_price_jax(model, T = 3.0, M=default_M,\n",
    "                           key=jax.random.PRNGKey(1)):\n",
    "    \"\"\"\n",
    "    Estimate the price of the call option using Monte Carlo.\n",
    "    \"\"\"\n",
    "    # Set up\n",
    "    μ, d, σ, S, K = model\n",
    "    s = jnp.full(M, jnp.log(S))\n",
    "    Z = jax.random.normal(key, (1, M))\n",
    "    s = s + (μ - d - 0.5 * σ * σ) * T +  σ * jnp.sqrt(T) * Z[0, :]\n",
    "    expectation = jnp.mean(jnp.maximum(jnp.exp(s) - K, 0))\n",
    "    return jnp.exp(-μ * T) * expectation"
   ]
  },
  {
   "cell_type": "code",
   "execution_count": 14,
   "id": "5e32f7c3-9a05-4c5e-8d43-a09655af9969",
   "metadata": {},
   "outputs": [
    {
     "name": "stdout",
     "output_type": "stream",
     "text": [
      "CPU times: total: 1.95 s\n",
      "Wall time: 969 ms\n"
     ]
    },
    {
     "data": {
      "text/plain": [
       "Array(5.200003, dtype=float32)"
      ]
     },
     "execution_count": 14,
     "metadata": {},
     "output_type": "execute_result"
    }
   ],
   "source": [
    "%%time \n",
    "compute_call_price_jax(default_model).block_until_ready()"
   ]
  },
  {
   "cell_type": "code",
   "execution_count": 15,
   "id": "5b0eb92c-171c-4a0e-b2c0-ecab5e8d0833",
   "metadata": {},
   "outputs": [],
   "source": [
    "compute_call_price_jax_jit = jax.jit(compute_call_price_jax)"
   ]
  },
  {
   "cell_type": "code",
   "execution_count": 16,
   "id": "6ecc6289-d1cf-4ba5-9f13-6273d60aaa8b",
   "metadata": {},
   "outputs": [
    {
     "name": "stdout",
     "output_type": "stream",
     "text": [
      "CPU times: total: 1.25 s\n",
      "Wall time: 498 ms\n"
     ]
    },
    {
     "data": {
      "text/plain": [
       "Array(5.200003, dtype=float32)"
      ]
     },
     "execution_count": 16,
     "metadata": {},
     "output_type": "execute_result"
    }
   ],
   "source": [
    "%%time \n",
    "compute_call_price_jax_jit(default_model).block_until_ready()"
   ]
  },
  {
   "cell_type": "code",
   "execution_count": 17,
   "id": "8b317b87-fb94-47e2-84ba-94e0b56b8c68",
   "metadata": {},
   "outputs": [],
   "source": [
    "compute_call_grad = jax.grad(compute_call_price_jax)\n",
    "compute_call_grad_jit = jax.jit(jax.grad(compute_call_price_jax))"
   ]
  },
  {
   "cell_type": "code",
   "execution_count": 18,
   "id": "4824ad09-d3ee-4412-8c58-cf71f17a805c",
   "metadata": {},
   "outputs": [
    {
     "name": "stdout",
     "output_type": "stream",
     "text": [
      "CPU times: total: 2.73 s\n",
      "Wall time: 1.44 s\n"
     ]
    },
    {
     "data": {
      "text/plain": [
       "Array([  84.89636   , -100.49637   ,   59.568905  ,    0.3349879 ,\n",
       "         -0.23582327], dtype=float32)"
      ]
     },
     "execution_count": 18,
     "metadata": {},
     "output_type": "execute_result"
    }
   ],
   "source": [
    "%%time \n",
    "compute_call_grad(default_model).block_until_ready()"
   ]
  },
  {
   "cell_type": "code",
   "execution_count": 19,
   "id": "20b023e7-a017-46dc-b4ed-cae48c1f7540",
   "metadata": {},
   "outputs": [
    {
     "name": "stdout",
     "output_type": "stream",
     "text": [
      "CPU times: total: 1.89 s\n",
      "Wall time: 838 ms\n"
     ]
    },
    {
     "data": {
      "text/plain": [
       "Array([  84.89636   , -100.49637   ,   59.568913  ,    0.3349879 ,\n",
       "         -0.23582327], dtype=float32)"
      ]
     },
     "execution_count": 19,
     "metadata": {},
     "output_type": "execute_result"
    }
   ],
   "source": [
    "%%time \n",
    "compute_call_grad_jit(default_model).block_until_ready()"
   ]
  },
  {
   "cell_type": "code",
   "execution_count": null,
   "id": "0a918e72-6fc8-494b-bed5-371e675817d7",
   "metadata": {},
   "outputs": [],
   "source": []
  }
 ],
 "metadata": {
  "kernelspec": {
   "display_name": "Python 3 (ipykernel)",
   "language": "python",
   "name": "python3"
  },
  "language_info": {
   "codemirror_mode": {
    "name": "ipython",
    "version": 3
   },
   "file_extension": ".py",
   "mimetype": "text/x-python",
   "name": "python",
   "nbconvert_exporter": "python",
   "pygments_lexer": "ipython3",
   "version": "3.9.16"
  }
 },
 "nbformat": 4,
 "nbformat_minor": 5
}
